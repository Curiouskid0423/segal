{
 "cells": [
  {
   "cell_type": "markdown",
   "metadata": {},
   "source": [
    "## Helper file to generate Configs efficiently"
   ]
  },
  {
   "cell_type": "code",
   "execution_count": 53,
   "metadata": {},
   "outputs": [],
   "source": [
    "import os\n",
    "\n",
    "def variable_combinations(cls):\n",
    "\n",
    "        def enumerate_vars(mega, count):\n",
    "\n",
    "            if count > len(mega)-1:\n",
    "                return [[]]\n",
    "            elif not isinstance(getattr(cls, mega[count]), list):\n",
    "                res =  [\n",
    "                    [(mega[count], getattr(cls, mega[count]))] + e\n",
    "                    for e in enumerate_vars(mega, count+1)\n",
    "                ]\n",
    "                return res\n",
    "            else:\n",
    "                attr = getattr(cls, mega[count])\n",
    "                downstream = enumerate_vars(mega, count+1)\n",
    "                results = []\n",
    "                for val in attr:\n",
    "                    for d in downstream:\n",
    "                        results.append([(mega[count], val)] + d)\n",
    "                return results\n",
    "                    \n",
    "        list_of_vars = [v for v in dir(cls) if not callable(getattr(cls, v)) and not v.startswith('__')]\n",
    "        return enumerate_vars(list_of_vars, count=0)\n",
    "\n",
    "def write_config(file_name: str, template: str, vars: list):\n",
    "    for v in vars:\n",
    "        template = template.replace(v[0], str(v[1]))\n",
    "    assert not os.path.exists(file_name), f\"file {file_name} exists. please change the file_name to avoid accidental overwriting.\"\n",
    "    with open(file_name, 'w') as fs:\n",
    "        fs.write(template)"
   ]
  },
  {
   "cell_type": "code",
   "execution_count": 107,
   "metadata": {},
   "outputs": [],
   "source": [
    "INDEX = 34\n",
    "class Variables:\n",
    "    BASE = '../' \n",
    "    DATA_FILE = f'\\\"{BASE}dataset/cityscapes.py\\\"'\n",
    "    RUNTIME_FILE = f'\\\"{BASE}../configs/_base_/default_runtime.py\\\"'\n",
    "    MODEL_FILE = f'\\\"{BASE}../configs/_base_/models/fpn_r50.py\\\"'\n",
    "    SPG = 1\n",
    "    GPU = 8\n",
    "    QUERY_EPOCH = 5\n",
    "    BUDGET = 'int(256*512*0.005) * 2975'\n",
    "    SAMPLE_ROUNDS = 10\n",
    "    HEURISTIC = '\\\"sparsity\\\"'\n",
    "    VIZ_SIZE = 10\n",
    "    VIZ_DIR = f'\\\"viz_tune_sparsity_{INDEX}\\\"'\n",
    "    WANDB_NAME = f'\\\"fpnR50_gtav_sparsity_{INDEX}\\\"'\n",
    "    INIT_LR = \"0.001\"\n",
    "    MIN_LR = \"5e-5\"\n",
    "    INFLECTION = \"0.16\"\n",
    "    K = 2\n",
    "    LOAD_FROM = '\\\"experiments/gtav_ckpt_fpnR50.pth\\\"'\n",
    "    SAMPLE_EVENLY = False"
   ]
  },
  {
   "cell_type": "code",
   "execution_count": 108,
   "metadata": {},
   "outputs": [],
   "source": [
    "template_path = \"./config_template.txt\"\n",
    "write_folder = \"./tune_sparsity/\"\n",
    "with open(template_path, 'r') as fs:\n",
    "    contents = fs.read()"
   ]
  },
  {
   "cell_type": "code",
   "execution_count": 109,
   "metadata": {},
   "outputs": [],
   "source": [
    "x = variable_combinations(cls=Variables)\n",
    "write_config(file_name=os.path.join(write_folder, f\"sparsity_{INDEX}.py\"), template=contents, vars=x[0])"
   ]
  },
  {
   "cell_type": "code",
   "execution_count": null,
   "metadata": {},
   "outputs": [],
   "source": []
  }
 ],
 "metadata": {
  "kernelspec": {
   "display_name": "Python 3.8.12 ('active')",
   "language": "python",
   "name": "python3"
  },
  "language_info": {
   "codemirror_mode": {
    "name": "ipython",
    "version": 3
   },
   "file_extension": ".py",
   "mimetype": "text/x-python",
   "name": "python",
   "nbconvert_exporter": "python",
   "pygments_lexer": "ipython3",
   "version": "3.8.12"
  },
  "orig_nbformat": 4,
  "vscode": {
   "interpreter": {
    "hash": "ee4f3f291cd10a267a367568f387c1596f5a8ff32edb4fc4267f7aefda1c1b61"
   }
  }
 },
 "nbformat": 4,
 "nbformat_minor": 2
}
